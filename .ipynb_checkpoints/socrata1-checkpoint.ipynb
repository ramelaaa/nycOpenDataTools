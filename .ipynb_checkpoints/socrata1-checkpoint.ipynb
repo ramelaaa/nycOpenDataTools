{
 "cells": [
  {
   "cell_type": "code",
   "execution_count": 14,
   "id": "6b031ee5-ab1a-4822-8653-8d13447c6cf0",
   "metadata": {},
   "outputs": [
    {
     "name": "stderr",
     "output_type": "stream",
     "text": [
      "WARNING:root:Requests made without an app_token will be subject to strict throttling limits.\n"
     ]
    },
    {
     "name": "stdout",
     "output_type": "stream",
     "text": [
      "-----HPD-----\n",
      "  violationid buildingid registrationid boroid   boro housenumber  \\\n",
      "0    10537115      79684         219496      2  BRONX        2423   \n",
      "1    10902885      79684         219496      2  BRONX        2423   \n",
      "2    11939620      79684         219496      2  BRONX        2423   \n",
      "3    14865518      79684         219496      2  BRONX        2423   \n",
      "\n",
      "  lowhousenumber highhousenumber     streetname streetcode  ...      bin  \\\n",
      "0           2423            2423  FULLER STREET      34120  ...  2042259   \n",
      "1           2423            2423  FULLER STREET      34120  ...  2042259   \n",
      "2           2423            2423  FULLER STREET      34120  ...  2042259   \n",
      "3           2423            2423  FULLER STREET      34120  ...  2042259   \n",
      "\n",
      "          bbl                    nta story    originalcertifybydate  \\\n",
      "0  2039970068  Westchester-Unionport   NaN                      NaN   \n",
      "1  2039970068  Westchester-Unionport   NaN                      NaN   \n",
      "2  2039970068  Westchester-Unionport     1  2017-12-11T00:00:00.000   \n",
      "3  2039970068  Westchester-Unionport   NaN  2022-06-06T00:00:00.000   \n",
      "\n",
      "     originalcorrectbydate            certifieddate    novid  \\\n",
      "0                      NaN                      NaN      NaN   \n",
      "1                      NaN                      NaN      NaN   \n",
      "2  2017-11-27T00:00:00.000  2017-09-22T00:00:00.000  5833595   \n",
      "3  2022-05-23T00:00:00.000                      NaN  7668149   \n",
      "\n",
      "             novissueddate   novtype  \n",
      "0                      NaN       NaN  \n",
      "1                      NaN       NaN  \n",
      "2  2017-08-24T00:00:00.000  Original  \n",
      "3  2022-02-17T00:00:00.000  Original  \n",
      "\n",
      "[4 rows x 38 columns]\n",
      "-----HPD-----\n",
      "NO DOB violations\n",
      "NO DOB ECB violations\n",
      "-----DOB Complaints-----\n",
      "  complaint_number  status date_entered  house_number   zip_code  \\\n",
      "0          2055544  CLOSED   10/31/2003  2423          10461       \n",
      "\n",
      "                       house_street      bin community_board special_district  \\\n",
      "0  FULLER STREET                     2042259             210                    \n",
      "\n",
      "  complaint_category   unit disposition_date disposition_code inspection_date  \\\n",
      "0                 05  BRONX       11/10/2003               I2      11/06/2003   \n",
      "\n",
      "                dobrundate  \n",
      "0  2018-11-07T00:00:00.000  \n",
      "-----DOB Complaints-----\n"
     ]
    }
   ],
   "source": [
    "#!/usr/bin/env python\n",
    "\n",
    "import pandas as pd\n",
    "from sodapy import Socrata\n",
    "\n",
    "# pd.options.display.max_columns = None\n",
    "\n",
    "client = Socrata(\"data.cityofnewyork.us\", None)\n",
    "\n",
    "hpd_results     = client.get(\"wvxf-dwi5\",where=\"bin = '2042259' \" ,limit=20)\n",
    "dob_results     = client.get(\"3h2n-5cm9\",where=\"bin = '2042259' \", limit=20)\n",
    "dob_ecb_results = client.get(\"6bgk-3dad\",where=\"bin = '2042259' \", limit=20)\n",
    "dob_complaints  = client.get(\"eabe-havv\",where=\"bin = '2042259' \", limit=20)\n",
    "\n",
    "# Convert to pandas DataFrame\n",
    "hpd_results_df     = pd.DataFrame.from_records(hpd_results)\n",
    "dob_results_df     = pd.DataFrame.from_records(dob_results)\n",
    "dob_ecb_results_df = pd.DataFrame.from_records(dob_ecb_results)\n",
    "dob_complaints_df  = pd.DataFrame.from_records(dob_complaints)\n",
    "\n",
    "if hpd_results_df.empty:\n",
    "    display(\"NO HPD violations\")\n",
    "else:\n",
    "    print(\"-----HPD-----\")\n",
    "    print(hpd_results_df)\n",
    "    print(\"-----HPD-----\")\n",
    "    \n",
    "if dob_results_df.empty:\n",
    "    print(\"NO DOB violations\")\n",
    "else:\n",
    "    print(\"-----DOB-----\")\n",
    "    print(dob_results_df)\n",
    "    print(\"-----DOB-----\") \n",
    "    \n",
    "if dob_ecb_results_df.empty:\n",
    "    print(\"NO DOB ECB violations\")\n",
    "else:\n",
    "   print(\"-----DOB_ECB-----\")\n",
    "   print(dob_ecb_results_df)\n",
    "   print(\"-----DOB_ECB-----\")\n",
    "    \n",
    "if dob_complaints_df.empty:\n",
    "    print(\"No DOB complaints\")\n",
    "else:\n",
    "    print(\"-----DOB Complaints-----\")\n",
    "    print(dob_complaints_df)\n",
    "    print(\"-----DOB Complaints-----\")\n",
    "\n"
   ]
  },
  {
   "cell_type": "code",
   "execution_count": null,
   "id": "3195a33f-a194-4be1-be69-16d30b739fc4",
   "metadata": {},
   "outputs": [],
   "source": []
  },
  {
   "cell_type": "code",
   "execution_count": 12,
   "id": "f537965e-a542-4aeb-a1b5-caeb548edf90",
   "metadata": {},
   "outputs": [
    {
     "name": "stderr",
     "output_type": "stream",
     "text": [
      "WARNING:root:Requests made without an app_token will be subject to strict throttling limits.\n"
     ]
    },
    {
     "name": "stdout",
     "output_type": "stream",
     "text": [
      "Surujnauth Ramnauth: \n",
      "0    Ticket Number: 042944723N Paid:$100\n",
      "dtype: object\n",
      "Toumwatee Ramnauth: \n",
      "No Tickets\n",
      "Ramela Ramnauth: \n",
      "No Tickets\n"
     ]
    }
   ],
   "source": [
    "#!/usr/bin/env python\n",
    "\n",
    "import pandas as pd\n",
    "from sodapy import Socrata\n",
    "\n",
    "# pd.options.display.max_columns = None\n",
    "\n",
    "client = Socrata(\"data.cityofnewyork.us\", None)\n",
    "\n",
    "surujnauth = client.get(\"jz4z-kudi\",where=\"respondent_last_name='RAMNAUTH' AND respondent_first_name='SURUJNAUTH' \" ,limit=20)\n",
    "toumwatee = client.get(\"jz4z-kudi\",where=\"respondent_last_name='RAMNAUTH' AND respondent_first_name='TOUMWATEE' \" ,limit=20)\n",
    "ramela = client.get(\"jz4z-kudi\",where=\"respondent_last_name='RAMNAUTH' AND respondent_first_name='RAMELA' \" ,limit=20)\n",
    "toumwatee_df = pd.DataFrame.from_records(toumwatee)\n",
    "ramela_df = pd.DataFrame.from_records(ramela)\n",
    "surujnauth_df = pd.DataFrame.from_records(surujnauth)\n",
    "print(\"Surujnauth Ramnauth: \")\n",
    "if surujnauth_df.empty:\n",
    "    print (\"No Tickets\")\n",
    "else:\n",
    "    print(\"Ticket Number: \" + surujnauth_df[\"ticket_number\"] + \"  Paid:$\" + surujnauth_df[\"paid_amount\"])\n",
    "print(\"Toumwatee Ramnauth: \")\n",
    "if toumwatee_df.empty:\n",
    "    print (\"No Tickets\")\n",
    "else:\n",
    "    print(\"Ticket Number: \" + toumwatee_df[\"ticket_number\"] + \" Paid:$\" + toumwatee_df[\"paid_amount\"])\n",
    "print(\"Ramela Ramnauth: \")\n",
    "if ramela_df.empty:\n",
    "    print (\"No Tickets\")\n",
    "else:\n",
    "    print(\"Ticket Number: \" + ramela_df[\"ticket_number\"] + \" Paid:$\" + ramela_df[\"paid_amount\"])"
   ]
  },
  {
   "cell_type": "code",
   "execution_count": null,
   "id": "f1060ae9-c3d3-41c1-b0da-c3f9c13a3ee7",
   "metadata": {},
   "outputs": [],
   "source": []
  }
 ],
 "metadata": {
  "kernelspec": {
   "display_name": "Python 3 (ipykernel)",
   "language": "python",
   "name": "python3"
  },
  "language_info": {
   "codemirror_mode": {
    "name": "ipython",
    "version": 3
   },
   "file_extension": ".py",
   "mimetype": "text/x-python",
   "name": "python",
   "nbconvert_exporter": "python",
   "pygments_lexer": "ipython3",
   "version": "3.9.12"
  }
 },
 "nbformat": 4,
 "nbformat_minor": 5
}
